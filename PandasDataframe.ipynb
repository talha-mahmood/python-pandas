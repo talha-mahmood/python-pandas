{
  "nbformat": 4,
  "nbformat_minor": 0,
  "metadata": {
    "colab": {
      "provenance": []
    },
    "kernelspec": {
      "name": "python3",
      "display_name": "Python 3"
    },
    "language_info": {
      "name": "python"
    }
  },
  "cells": [
    {
      "cell_type": "markdown",
      "source": [
        " Create a DataFrame: Create a DataFrame with the following data:\n",
        "Name | Age | Department\n",
        "--------------------------\n",
        "Alice | 30 | HR\n",
        "Bob | 24 | Engineering\n",
        "Carol | 29 | Marketing\n",
        "Dave | 35 | IT\n",
        " Filter Rows: Using the DataFrame from Exercise 1, filter the rows to include only those\n",
        "where the age is greater than 28.\n",
        " Add a Column: Add a new column to the DataFrame from Exercise 1 called Salary with\n",
        "the following values: [50000, 60000, 55000, 70000].\n",
        " Calculate Average Salary: Compute the average salary of all employees in the DataFrame\n",
        "from Exercise 1.\n",
        " Group By and Aggregate: Using the DataFrame from Exercise 1, group by the\n",
        "Department column and calculate the average age of employees in each department."
      ],
      "metadata": {
        "id": "sLrQv3y-BXks"
      }
    },
    {
      "cell_type": "code",
      "source": [
        "import pandas as pd\n",
        "\n",
        "# Create the DataFrame with given data\n",
        "data = {\n",
        "    'Name': ['Alice', 'Bob', 'Carol', 'Dave'],\n",
        "    'Age': [30, 24, 29, 35],\n",
        "    'Department': ['HR', 'Engineering', 'Marketing', 'IT']\n",
        "}\n",
        "\n",
        "df = pd.DataFrame(data)\n",
        "print(\"DataFrame:\\n\", df)\n",
        "filtered_df = df[df['Age'] > 28]\n",
        "print(\"\\nFiltered DataFrame (Age > 28):\\n\", filtered_df)\n",
        "\n",
        "\n"
      ],
      "metadata": {
        "colab": {
          "base_uri": "https://localhost:8080/"
        },
        "id": "8PHyIX43BX8j",
        "outputId": "0f28d10c-844a-4d78-b1c3-2f1f9ec09a10"
      },
      "execution_count": 35,
      "outputs": [
        {
          "output_type": "stream",
          "name": "stdout",
          "text": [
            "DataFrame:\n",
            "     Name  Age   Department\n",
            "0  Alice   30           HR\n",
            "1    Bob   24  Engineering\n",
            "2  Carol   29    Marketing\n",
            "3   Dave   35           IT\n",
            "\n",
            "Filtered DataFrame (Age > 28):\n",
            "     Name  Age Department\n",
            "0  Alice   30         HR\n",
            "2  Carol   29  Marketing\n",
            "3   Dave   35         IT\n"
          ]
        }
      ]
    },
    {
      "cell_type": "code",
      "source": [
        "df['Salary'] = [50000, 60000, 55000, 70000]\n",
        "print(\"\\nDataFrame with Salary Column:\\n\", df)\n",
        "average_salary = df['Salary'].mean()\n",
        "print(\"\\nAverage Salary:\", average_salary)\n",
        "\n",
        "average_age_by_department = df.groupby('Department')['Age'].mean()\n",
        "print(\"\\nAverage Age by Department:\\n\", average_age_by_department)\n"
      ],
      "metadata": {
        "colab": {
          "base_uri": "https://localhost:8080/"
        },
        "id": "xDb-8BzNBpiU",
        "outputId": "3cf51903-5dbf-448a-e3a1-5d0ee868112b"
      },
      "execution_count": 38,
      "outputs": [
        {
          "output_type": "stream",
          "name": "stdout",
          "text": [
            "\n",
            "DataFrame with Salary Column:\n",
            "     Name  Age   Department  Salary\n",
            "0  Alice   30           HR   50000\n",
            "1    Bob   24  Engineering   60000\n",
            "2  Carol   29    Marketing   55000\n",
            "3   Dave   35           IT   70000\n",
            "\n",
            "Average Salary: 58750.0\n",
            "\n",
            "Average Age by Department:\n",
            " Department\n",
            "Engineering    24.0\n",
            "HR             30.0\n",
            "IT             35.0\n",
            "Marketing      29.0\n",
            "Name: Age, dtype: float64\n"
          ]
        }
      ]
    },
    {
      "cell_type": "markdown",
      "source": [
        " Sort Data: Sort the DataFrame from Exercise 1 by the Age column in descending order.\n",
        " Merge DataFrames: Create another DataFrame with the following data:\n",
        "Name | Joining Date\n",
        "----------------------\n",
        "Alice | 2022-01-15\n",
        "Bob | 2023-03-22\n",
        "Carol | 2021-11-08\n",
        "Dave | 2020-05-19\n",
        "Merge this DataFrame with the one from Exercise 1 based on the Name column.\n",
        " Handle Missing Values: Create a DataFrame with some missing values:\n",
        "Name | Age | Salary\n",
        "---------------------\n",
        "Alice | 30 | 50000\n",
        "Bob | NaN | 60000\n",
        "Carol | 29 | NaN\n",
        "Dave | 35 | 70000\n",
        "Fill the missing values in the Age column with the mean age and in the Salary column with the\n",
        "median salary."
      ],
      "metadata": {
        "id": "jhrOXniCB7S5"
      }
    },
    {
      "cell_type": "code",
      "source": [
        "import pandas as pd\n",
        "\n",
        "# Recreate the original DataFrame\n",
        "data = {\n",
        "    'Name': ['Alice', 'Bob', 'Carol', 'Dave'],\n",
        "    'Age': [30, 24, 29, 35],\n",
        "    'Department': ['HR', 'Engineering', 'Marketing', 'IT'],\n",
        "    'Salary': [50000, 60000, 55000, 70000]\n",
        "}\n",
        "df = pd.DataFrame(data)\n",
        "\n",
        "# Sort the DataFrame by the Age column in descending order\n",
        "sorted_df = df.sort_values(by='Age', ascending=False)\n",
        "print(\"Sorted DataFrame by Age (Descending):\\n\", sorted_df)\n",
        "\n",
        "# Create another DataFrame with joining dates\n",
        "joining_dates = {\n",
        "    'Name': ['Alice', 'Bob', 'Carol', 'Dave'],\n",
        "    'Joining Date': ['2022-01-15', '2023-03-22', '2021-11-08', '2020-05-19']\n",
        "}\n",
        "df_dates = pd.DataFrame(joining_dates)\n",
        "\n",
        "# Merge the two DataFrames on the Name column\n",
        "merged_df = pd.merge(df, df_dates, on='Name')\n",
        "print(\"\\nMerged DataFrame:\\n\", merged_df)\n"
      ],
      "metadata": {
        "colab": {
          "base_uri": "https://localhost:8080/"
        },
        "id": "xIhdKhGQB60y",
        "outputId": "7292a07f-98f5-40ed-e704-565c47d28bf2"
      },
      "execution_count": 40,
      "outputs": [
        {
          "output_type": "stream",
          "name": "stdout",
          "text": [
            "Sorted DataFrame by Age (Descending):\n",
            "     Name  Age   Department  Salary\n",
            "3   Dave   35           IT   70000\n",
            "0  Alice   30           HR   50000\n",
            "2  Carol   29    Marketing   55000\n",
            "1    Bob   24  Engineering   60000\n",
            "\n",
            "Merged DataFrame:\n",
            "     Name  Age   Department  Salary Joining Date\n",
            "0  Alice   30           HR   50000   2022-01-15\n",
            "1    Bob   24  Engineering   60000   2023-03-22\n",
            "2  Carol   29    Marketing   55000   2021-11-08\n",
            "3   Dave   35           IT   70000   2020-05-19\n"
          ]
        }
      ]
    },
    {
      "cell_type": "code",
      "source": [
        "# Create a DataFrame with missing values\n",
        "data_missing = {\n",
        "    'Name': ['Alice', 'Bob', 'Carol', 'Dave'],\n",
        "    'Age': [30, None, 29, 35],\n",
        "    'Salary': [50000, 60000, None, 70000]\n",
        "}\n",
        "df_missing = pd.DataFrame(data_missing)\n",
        "\n",
        "# Fill missing values\n",
        "mean_age = df_missing['Age'].mean()\n",
        "median_salary = df_missing['Salary'].median()\n",
        "\n",
        "df_missing['Age'].fillna(mean_age, inplace=True)\n",
        "df_missing['Salary'].fillna(median_salary, inplace=True)\n",
        "\n",
        "print(\"\\nDataFrame with Missing Values Handled:\\n\", df_missing)\n"
      ],
      "metadata": {
        "colab": {
          "base_uri": "https://localhost:8080/"
        },
        "id": "FOSVtRbPC6XW",
        "outputId": "bdce1113-c437-4756-a6f4-d3acc4b66c7d"
      },
      "execution_count": 41,
      "outputs": [
        {
          "output_type": "stream",
          "name": "stdout",
          "text": [
            "\n",
            "DataFrame with Missing Values Handled:\n",
            "     Name        Age   Salary\n",
            "0  Alice  30.000000  50000.0\n",
            "1    Bob  31.333333  60000.0\n",
            "2  Carol  29.000000  60000.0\n",
            "3   Dave  35.000000  70000.0\n"
          ]
        }
      ]
    },
    {
      "cell_type": "markdown",
      "source": [
        " Apply Function: Using the DataFrame from Exercise 1, create a new column called Age in\n",
        "5 Years where each value is the age of the employee 5 years from now.\n",
        " Pivot Table: Create a pivot table from the DataFrame in Exercise 1 to show the average\n",
        "salary by Department.\n",
        " Drop Columns: Using the DataFrame from Exercise 1, drop the Department column and\n",
        "display the updated DataFrame.\n",
        " Date Operations: Using the DataFrame from Exercise 7 (the one with Joining Date),\n",
        "extract and create a new column Joining Year that contains the year part of the Joining\n",
        "Date."
      ],
      "metadata": {
        "id": "_FWfK-ZWEl3p"
      }
    },
    {
      "cell_type": "code",
      "source": [
        "import pandas as pd\n",
        "\n",
        "# Recreate the original DataFrame\n",
        "data = {\n",
        "    'Name': ['Alice', 'Bob', 'Carol', 'Dave'],\n",
        "    'Age': [30, 24, 29, 35],\n",
        "    'Department': ['HR', 'Engineering', 'Marketing', 'IT'],\n",
        "    'Salary': [50000, 60000, 55000, 70000]\n",
        "}\n",
        "df = pd.DataFrame(data)\n",
        "\n",
        "# Create a new column 'Age in 5 Years'\n",
        "df['Age in 5 Years'] = df['Age'] + 5\n",
        "print(\"DataFrame with 'Age in 5 Years':\\n\", df)\n",
        "\n",
        "# Create a pivot table showing average salary by Department\n",
        "pivot_table = df.pivot_table(values='Salary', index='Department', aggfunc='mean')\n",
        "print(\"\\nPivot Table (Average Salary by Department):\\n\", pivot_table)\n"
      ],
      "metadata": {
        "colab": {
          "base_uri": "https://localhost:8080/"
        },
        "id": "aHXWXSP8EoxI",
        "outputId": "81610dbc-3c73-4b20-9f67-2d1dfb1e3c91"
      },
      "execution_count": 43,
      "outputs": [
        {
          "output_type": "stream",
          "name": "stdout",
          "text": [
            "DataFrame with 'Age in 5 Years':\n",
            "     Name  Age   Department  Salary  Age in 5 Years\n",
            "0  Alice   30           HR   50000              35\n",
            "1    Bob   24  Engineering   60000              29\n",
            "2  Carol   29    Marketing   55000              34\n",
            "3   Dave   35           IT   70000              40\n",
            "\n",
            "Pivot Table (Average Salary by Department):\n",
            "               Salary\n",
            "Department          \n",
            "Engineering  60000.0\n",
            "HR           50000.0\n",
            "IT           70000.0\n",
            "Marketing    55000.0\n"
          ]
        }
      ]
    },
    {
      "cell_type": "code",
      "source": [
        "# Drop the 'Department' column\n",
        "df_dropped = df.drop(columns='Department')\n",
        "print(\"\\nDataFrame with 'Department' Column Dropped:\\n\", df_dropped)\n",
        "# Create the DataFrame with Joining Date\n",
        "joining_dates = {\n",
        "    'Name': ['Alice', 'Bob', 'Carol', 'Dave'],\n",
        "    'Joining Date': ['2022-01-15', '2023-03-22', '2021-11-08', '2020-05-19']\n",
        "}\n",
        "df_dates = pd.DataFrame(joining_dates)\n",
        "\n",
        "# Convert 'Joining Date' to datetime format\n",
        "df_dates['Joining Date'] = pd.to_datetime(df_dates['Joining Date'])\n",
        "\n",
        "# Extract the year and create a new column 'Joining Year'\n",
        "df_dates['Joining Year'] = df_dates['Joining Date'].dt.year\n",
        "print(\"\\nDataFrame with 'Joining Year' Column:\\n\", df_dates)\n"
      ],
      "metadata": {
        "colab": {
          "base_uri": "https://localhost:8080/"
        },
        "id": "cJ-ruWJyFZu3",
        "outputId": "6a418d24-d4e4-48e7-caf4-4044257db3b2"
      },
      "execution_count": 44,
      "outputs": [
        {
          "output_type": "stream",
          "name": "stdout",
          "text": [
            "\n",
            "DataFrame with 'Department' Column Dropped:\n",
            "     Name  Age  Salary  Age in 5 Years\n",
            "0  Alice   30   50000              35\n",
            "1    Bob   24   60000              29\n",
            "2  Carol   29   55000              34\n",
            "3   Dave   35   70000              40\n",
            "\n",
            "DataFrame with 'Joining Year' Column:\n",
            "     Name Joining Date  Joining Year\n",
            "0  Alice   2022-01-15          2022\n",
            "1    Bob   2023-03-22          2023\n",
            "2  Carol   2021-11-08          2021\n",
            "3   Dave   2020-05-19          2020\n"
          ]
        }
      ]
    },
    {
      "cell_type": "markdown",
      "source": [
        " Unique Values: Using the DataFrame from Exercise 1, find and display the unique values in\n",
        "the Department column.\n",
        " Conditional Column: Create a new column called Age Category in the DataFrame from\n",
        "Exercise 1, where the value is &#39;Young&#39; if age is less than 30, and &#39;Experienced&#39; otherwise.\n",
        " Combine DataFrames: Create two DataFrames:\n",
        "df1:\n",
        "Name | Department\n",
        "---------------------\n",
        "Alice | HR\n",
        "Bob | Engineering\n",
        "df2:\n",
        "Name | Salary\n",
        "------------------\n",
        "Carol | 55000\n",
        "Dave | 70000\n",
        "Combine df1 and df2 based on the Name column, handling the missing values as needed."
      ],
      "metadata": {
        "id": "awZPDOMmF24t"
      }
    },
    {
      "cell_type": "code",
      "source": [
        "import pandas as pd\n",
        "\n",
        "# Recreate the original DataFrame\n",
        "data = {\n",
        "    'Name': ['Alice', 'Bob', 'Carol', 'Dave'],\n",
        "    'Age': [30, 24, 29, 35],\n",
        "    'Department': ['HR', 'Engineering', 'Marketing', 'IT'],\n",
        "    'Salary': [50000, 60000, 55000, 70000]\n",
        "}\n",
        "df = pd.DataFrame(data)\n",
        "\n",
        "# Find and display the unique values in the 'Department' column\n",
        "unique_departments = df['Department'].unique()\n",
        "print(\"Unique values in 'Department' column:\", unique_departments)\n",
        "# Create a new column 'Age Category' based on the 'Age' column\n",
        "df['Age Category'] = df['Age'].apply(lambda x: 'Young' if x < 30 else 'Experienced')\n",
        "print(\"\\nDataFrame with 'Age Category':\\n\", df)\n"
      ],
      "metadata": {
        "colab": {
          "base_uri": "https://localhost:8080/"
        },
        "id": "nCuLmDFdF3e1",
        "outputId": "a6e235b0-e456-4960-bec0-2cc3d2bc2d92"
      },
      "execution_count": 46,
      "outputs": [
        {
          "output_type": "stream",
          "name": "stdout",
          "text": [
            "Unique values in 'Department' column: ['HR' 'Engineering' 'Marketing' 'IT']\n",
            "\n",
            "DataFrame with 'Age Category':\n",
            "     Name  Age   Department  Salary Age Category\n",
            "0  Alice   30           HR   50000  Experienced\n",
            "1    Bob   24  Engineering   60000        Young\n",
            "2  Carol   29    Marketing   55000        Young\n",
            "3   Dave   35           IT   70000  Experienced\n"
          ]
        }
      ]
    },
    {
      "cell_type": "code",
      "source": [
        "# Create two DataFrames\n",
        "df1 = pd.DataFrame({\n",
        "    'Name': ['Alice', 'Bob'],\n",
        "    'Department': ['HR', 'Engineering']\n",
        "})\n",
        "\n",
        "df2 = pd.DataFrame({\n",
        "    'Name': ['Carol', 'Dave'],\n",
        "    'Salary': [55000, 70000]\n",
        "})\n",
        "\n",
        "# Combine the DataFrames on the 'Name' column\n",
        "combined_df = pd.merge(df1, df2, on='Name', how='outer')\n",
        "\n",
        "print(\"\\nCombined DataFrame:\\n\", combined_df)\n"
      ],
      "metadata": {
        "colab": {
          "base_uri": "https://localhost:8080/"
        },
        "id": "FYeqmntIGa66",
        "outputId": "1e0c6b2e-1089-4d81-cdaf-a497fda397af"
      },
      "execution_count": 47,
      "outputs": [
        {
          "output_type": "stream",
          "name": "stdout",
          "text": [
            "\n",
            "Combined DataFrame:\n",
            "     Name   Department   Salary\n",
            "0  Alice           HR      NaN\n",
            "1    Bob  Engineering      NaN\n",
            "2  Carol          NaN  55000.0\n",
            "3   Dave          NaN  70000.0\n"
          ]
        }
      ]
    }
  ]
}